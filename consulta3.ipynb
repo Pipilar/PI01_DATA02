{
 "cells": [
  {
   "cell_type": "markdown",
   "metadata": {},
   "source": [
    "***ITEM 3 : Nombre del circuito más corrido***"
   ]
  },
  {
   "cell_type": "code",
   "execution_count": 21,
   "metadata": {},
   "outputs": [],
   "source": [
    "import pandas as pd\n",
    "import numpy as np\n",
    "import json"
   ]
  },
  {
   "cell_type": "code",
   "execution_count": 22,
   "metadata": {},
   "outputs": [],
   "source": [
    "# levantamos los json pertinentes:\n",
    "df_circuits = pd.read_json(r'C:\\Users\\aalbe\\OneDrive\\Escritorio\\PI01_DATA02\\Datasets/circuits.json')\n",
    "df_races = pd.read_json(r'C:\\Users\\aalbe\\OneDrive\\Escritorio\\PI01_DATA02\\Datasets/races.json')"
   ]
  },
  {
   "cell_type": "code",
   "execution_count": 23,
   "metadata": {},
   "outputs": [
    {
     "data": {
      "text/plain": [
       "14    71\n",
       "6     67\n",
       "9     56\n",
       "13    54\n",
       "20    42\n",
       "      ..\n",
       "61     1\n",
       "60     1\n",
       "57     1\n",
       "54     1\n",
       "77     1\n",
       "Name: circuitId, Length: 75, dtype: int64"
      ]
     },
     "execution_count": 23,
     "metadata": {},
     "output_type": "execute_result"
    }
   ],
   "source": [
    "df_races['circuitId'].value_counts()"
   ]
  },
  {
   "cell_type": "code",
   "execution_count": 24,
   "metadata": {},
   "outputs": [],
   "source": [
    "circuitos_mas_corridos = df_races['circuitId'].value_counts()\n",
    "df_circuitos_mas_corridos = pd.DataFrame(circuitos_mas_corridos)\n",
    "df_circuitos_mas_corridos.reset_index(inplace=True)\n",
    "df_circuitos_mas_corridos.rename({'circuitId': 'repeticiones'}, axis=1, inplace=True)\n",
    "df_circuitos_mas_corridos.rename({'index': 'circuitId'}, axis=1, inplace=True)\n",
    "circuits_y_mas_corridos = pd.merge(df_circuitos_mas_corridos, df_circuits, on = 'circuitId') "
   ]
  },
  {
   "cell_type": "code",
   "execution_count": 25,
   "metadata": {},
   "outputs": [],
   "source": [
    "# creamos máscara para obtener el circuito donde más repeticiones hay\n",
    "mascara_mas_corrido = circuits_y_mas_corridos['repeticiones'] == circuits_y_mas_corridos['repeticiones'].max()"
   ]
  },
  {
   "cell_type": "code",
   "execution_count": 26,
   "metadata": {},
   "outputs": [
    {
     "data": {
      "text/plain": [
       "'Autodromo Nazionale di Monza'"
      ]
     },
     "execution_count": 26,
     "metadata": {},
     "output_type": "execute_result"
    }
   ],
   "source": [
    "# aplicamos dicha máscara\n",
    "circuits_y_mas_corridos[mascara_mas_corrido]['name'].to_string(index=False)"
   ]
  },
  {
   "cell_type": "code",
   "execution_count": 27,
   "metadata": {},
   "outputs": [
    {
     "name": "stdout",
     "output_type": "stream",
     "text": [
      "el circuito más corrido es: Autodromo Nazionale di Monza\n"
     ]
    }
   ],
   "source": [
    "# entonces:\n",
    "print('el circuito más corrido es:', circuits_y_mas_corridos[mascara_mas_corrido]['name'].to_string(index=False))"
   ]
  }
 ],
 "metadata": {
  "kernelspec": {
   "display_name": "Python 3.10.7 64-bit",
   "language": "python",
   "name": "python3"
  },
  "language_info": {
   "codemirror_mode": {
    "name": "ipython",
    "version": 3
   },
   "file_extension": ".py",
   "mimetype": "text/x-python",
   "name": "python",
   "nbconvert_exporter": "python",
   "pygments_lexer": "ipython3",
   "version": "3.10.7"
  },
  "orig_nbformat": 4,
  "vscode": {
   "interpreter": {
    "hash": "dc9e7ae3d231be18ba4769400e321b7e9f8bb9914b8528506cb2793b04756062"
   }
  }
 },
 "nbformat": 4,
 "nbformat_minor": 2
}
